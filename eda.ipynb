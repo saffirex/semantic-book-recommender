{
 "cells": [
  {
   "cell_type": "markdown",
   "id": "ac344aae",
   "metadata": {},
   "source": [
    "# I. Getting the Dataset"
   ]
  },
  {
   "cell_type": "code",
   "execution_count": 1,
   "id": "e089a77e",
   "metadata": {},
   "outputs": [],
   "source": [
    "# #!/bin/bash\n",
    "# mkdir -p ./ds/\n",
    "# curl -L -o ./ds/7k-books-with-metadata.zip https://www.kaggle.com/api/v1/datasets/download/dylanjcastillo/7k-books-with-metadata"
   ]
  },
  {
   "cell_type": "code",
   "execution_count": 1,
   "id": "f12dbadf",
   "metadata": {},
   "outputs": [],
   "source": [
    "import pandas as pd"
   ]
  },
  {
   "cell_type": "code",
   "execution_count": 5,
   "id": "c6853213",
   "metadata": {},
   "outputs": [
    {
     "data": {
      "text/html": [
       "<div>\n",
       "<style scoped>\n",
       "    .dataframe tbody tr th:only-of-type {\n",
       "        vertical-align: middle;\n",
       "    }\n",
       "\n",
       "    .dataframe tbody tr th {\n",
       "        vertical-align: top;\n",
       "    }\n",
       "\n",
       "    .dataframe thead th {\n",
       "        text-align: right;\n",
       "    }\n",
       "</style>\n",
       "<table border=\"1\" class=\"dataframe\">\n",
       "  <thead>\n",
       "    <tr style=\"text-align: right;\">\n",
       "      <th></th>\n",
       "      <th>isbn13</th>\n",
       "      <th>isbn10</th>\n",
       "      <th>title</th>\n",
       "      <th>subtitle</th>\n",
       "      <th>authors</th>\n",
       "      <th>categories</th>\n",
       "      <th>thumbnail</th>\n",
       "      <th>description</th>\n",
       "      <th>published_year</th>\n",
       "      <th>average_rating</th>\n",
       "      <th>num_pages</th>\n",
       "      <th>ratings_count</th>\n",
       "    </tr>\n",
       "  </thead>\n",
       "  <tbody>\n",
       "    <tr>\n",
       "      <th>5673</th>\n",
       "      <td>9781101098394</td>\n",
       "      <td>1101098392</td>\n",
       "      <td>The Hound of the Baskervilles</td>\n",
       "      <td>NaN</td>\n",
       "      <td>Sir Arthur Conan Doyle</td>\n",
       "      <td>Fiction</td>\n",
       "      <td>http://books.google.com/books/content?id=rtBSj...</td>\n",
       "      <td>Sherlock Holmes and Dr. Watson face a mystery ...</td>\n",
       "      <td>2001.0</td>\n",
       "      <td>NaN</td>\n",
       "      <td>NaN</td>\n",
       "      <td>NaN</td>\n",
       "    </tr>\n",
       "    <tr>\n",
       "      <th>2818</th>\n",
       "      <td>9780440910817</td>\n",
       "      <td>0440910811</td>\n",
       "      <td>A Ring of Endless Light</td>\n",
       "      <td>NaN</td>\n",
       "      <td>Madeleine L'Engle</td>\n",
       "      <td>Death</td>\n",
       "      <td>http://books.google.com/books/content?id=UGoVw...</td>\n",
       "      <td>During the summer her grandfather is dying of ...</td>\n",
       "      <td>1995.0</td>\n",
       "      <td>4.15</td>\n",
       "      <td>332.0</td>\n",
       "      <td>16513.0</td>\n",
       "    </tr>\n",
       "    <tr>\n",
       "      <th>2684</th>\n",
       "      <td>9780439411370</td>\n",
       "      <td>0439411378</td>\n",
       "      <td>The Summit</td>\n",
       "      <td>NaN</td>\n",
       "      <td>Gordon Korman</td>\n",
       "      <td>Juvenile Fiction</td>\n",
       "      <td>http://books.google.com/books/content?id=6VlnC...</td>\n",
       "      <td>As Tilt, Perry, Sammi, and Dominic prepare to ...</td>\n",
       "      <td>2002.0</td>\n",
       "      <td>3.96</td>\n",
       "      <td>154.0</td>\n",
       "      <td>2515.0</td>\n",
       "    </tr>\n",
       "    <tr>\n",
       "      <th>181</th>\n",
       "      <td>9780060554736</td>\n",
       "      <td>0060554738</td>\n",
       "      <td>The Game</td>\n",
       "      <td>Penetrating the Secret Society of Pickup Artists</td>\n",
       "      <td>Neil Strauss</td>\n",
       "      <td>Biography &amp; Autobiography</td>\n",
       "      <td>http://books.google.com/books/content?id=ibpvw...</td>\n",
       "      <td>Hidden somewhere, in nearly every major city i...</td>\n",
       "      <td>2005.0</td>\n",
       "      <td>3.74</td>\n",
       "      <td>464.0</td>\n",
       "      <td>19305.0</td>\n",
       "    </tr>\n",
       "    <tr>\n",
       "      <th>5405</th>\n",
       "      <td>9780859653725</td>\n",
       "      <td>0859653722</td>\n",
       "      <td>Dissecting Marilyn Manson</td>\n",
       "      <td>NaN</td>\n",
       "      <td>Gavin Baddeley</td>\n",
       "      <td>Music</td>\n",
       "      <td>http://books.google.com/books/content?id=7_FrA...</td>\n",
       "      <td>Marilyn Manson in more than a mere rock star -...</td>\n",
       "      <td>2005.0</td>\n",
       "      <td>3.86</td>\n",
       "      <td>192.0</td>\n",
       "      <td>504.0</td>\n",
       "    </tr>\n",
       "  </tbody>\n",
       "</table>\n",
       "</div>"
      ],
      "text/plain": [
       "             isbn13      isbn10                          title  \\\n",
       "5673  9781101098394  1101098392  The Hound of the Baskervilles   \n",
       "2818  9780440910817  0440910811        A Ring of Endless Light   \n",
       "2684  9780439411370  0439411378                     The Summit   \n",
       "181   9780060554736  0060554738                       The Game   \n",
       "5405  9780859653725  0859653722      Dissecting Marilyn Manson   \n",
       "\n",
       "                                              subtitle  \\\n",
       "5673                                               NaN   \n",
       "2818                                               NaN   \n",
       "2684                                               NaN   \n",
       "181   Penetrating the Secret Society of Pickup Artists   \n",
       "5405                                               NaN   \n",
       "\n",
       "                     authors                 categories  \\\n",
       "5673  Sir Arthur Conan Doyle                    Fiction   \n",
       "2818       Madeleine L'Engle                      Death   \n",
       "2684           Gordon Korman           Juvenile Fiction   \n",
       "181             Neil Strauss  Biography & Autobiography   \n",
       "5405          Gavin Baddeley                      Music   \n",
       "\n",
       "                                              thumbnail  \\\n",
       "5673  http://books.google.com/books/content?id=rtBSj...   \n",
       "2818  http://books.google.com/books/content?id=UGoVw...   \n",
       "2684  http://books.google.com/books/content?id=6VlnC...   \n",
       "181   http://books.google.com/books/content?id=ibpvw...   \n",
       "5405  http://books.google.com/books/content?id=7_FrA...   \n",
       "\n",
       "                                            description  published_year  \\\n",
       "5673  Sherlock Holmes and Dr. Watson face a mystery ...          2001.0   \n",
       "2818  During the summer her grandfather is dying of ...          1995.0   \n",
       "2684  As Tilt, Perry, Sammi, and Dominic prepare to ...          2002.0   \n",
       "181   Hidden somewhere, in nearly every major city i...          2005.0   \n",
       "5405  Marilyn Manson in more than a mere rock star -...          2005.0   \n",
       "\n",
       "      average_rating  num_pages  ratings_count  \n",
       "5673             NaN        NaN            NaN  \n",
       "2818            4.15      332.0        16513.0  \n",
       "2684            3.96      154.0         2515.0  \n",
       "181             3.74      464.0        19305.0  \n",
       "5405            3.86      192.0          504.0  "
      ]
     },
     "execution_count": 5,
     "metadata": {},
     "output_type": "execute_result"
    }
   ],
   "source": [
    "books = pd.read_csv(\"./ds/books.csv\")\n",
    "books.sample(5)"
   ]
  },
  {
   "cell_type": "markdown",
   "id": "700fa7f8",
   "metadata": {},
   "source": [
    "# 1. EDA"
   ]
  },
  {
   "cell_type": "markdown",
   "id": "dbcd226f",
   "metadata": {},
   "source": [
    "## 1.1 Checking if there are null values in the DS"
   ]
  },
  {
   "cell_type": "code",
   "execution_count": 24,
   "id": "74946631",
   "metadata": {},
   "outputs": [
    {
     "name": "stdout",
     "output_type": "stream",
     "text": [
      "<class 'pandas.core.frame.DataFrame'>\n",
      "RangeIndex: 6810 entries, 0 to 6809\n",
      "Data columns (total 12 columns):\n",
      " #   Column          Non-Null Count  Dtype  \n",
      "---  ------          --------------  -----  \n",
      " 0   isbn13          6810 non-null   int64  \n",
      " 1   isbn10          6810 non-null   object \n",
      " 2   title           6810 non-null   object \n",
      " 3   subtitle        2381 non-null   object \n",
      " 4   authors         6738 non-null   object \n",
      " 5   categories      6711 non-null   object \n",
      " 6   thumbnail       6481 non-null   object \n",
      " 7   description     6548 non-null   object \n",
      " 8   published_year  6804 non-null   float64\n",
      " 9   average_rating  6767 non-null   float64\n",
      " 10  num_pages       6767 non-null   float64\n",
      " 11  ratings_count   6767 non-null   float64\n",
      "dtypes: float64(4), int64(1), object(7)\n",
      "memory usage: 638.6+ KB\n"
     ]
    }
   ],
   "source": [
    "books.info()"
   ]
  },
  {
   "cell_type": "code",
   "execution_count": 9,
   "id": "2bacc348",
   "metadata": {},
   "outputs": [
    {
     "data": {
      "text/plain": [
       "isbn13               0\n",
       "isbn10               0\n",
       "title                0\n",
       "subtitle          4429\n",
       "authors             72\n",
       "categories          99\n",
       "thumbnail          329\n",
       "description        262\n",
       "published_year       6\n",
       "average_rating      43\n",
       "num_pages           43\n",
       "ratings_count       43\n",
       "dtype: int64"
      ]
     },
     "execution_count": 9,
     "metadata": {},
     "output_type": "execute_result"
    }
   ],
   "source": [
    "null_counts = books.isnull().sum()\n",
    "null_counts"
   ]
  },
  {
   "cell_type": "markdown",
   "id": "db4fffcd",
   "metadata": {},
   "source": [
    "### What we inferred?\n",
    "- 6810 entries in total\n",
    "- isbn ids and titles are all fine\n",
    "- a lot of subtitles are missing, approx 2/3 of total\n",
    "- \n"
   ]
  },
  {
   "cell_type": "code",
   "execution_count": null,
   "id": "1aa83fff",
   "metadata": {},
   "outputs": [],
   "source": []
  }
 ],
 "metadata": {
  "kernelspec": {
   "display_name": "env",
   "language": "python",
   "name": "python3"
  },
  "language_info": {
   "codemirror_mode": {
    "name": "ipython",
    "version": 3
   },
   "file_extension": ".py",
   "mimetype": "text/x-python",
   "name": "python",
   "nbconvert_exporter": "python",
   "pygments_lexer": "ipython3",
   "version": "3.12.3"
  }
 },
 "nbformat": 4,
 "nbformat_minor": 5
}
