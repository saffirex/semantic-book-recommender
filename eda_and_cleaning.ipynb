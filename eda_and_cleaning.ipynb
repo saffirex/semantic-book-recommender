{
 "cells": [
  {
   "cell_type": "markdown",
   "id": "ac344aae",
   "metadata": {},
   "source": [
    "# A. Getting the Dataset"
   ]
  },
  {
   "cell_type": "code",
   "execution_count": 2,
   "id": "e089a77e",
   "metadata": {},
   "outputs": [],
   "source": [
    "# #!/bin/bash\n",
    "# mkdir -p ./ds/\n",
    "# curl -L -o ./ds/7k-books-with-metadata.zip https://www.kaggle.com/api/v1/datasets/download/dylanjcastillo/7k-books-with-metadata"
   ]
  },
  {
   "cell_type": "code",
   "execution_count": 3,
   "id": "f12dbadf",
   "metadata": {},
   "outputs": [],
   "source": [
    "import pandas as pd"
   ]
  },
  {
   "cell_type": "code",
   "execution_count": 4,
   "id": "c6853213",
   "metadata": {},
   "outputs": [
    {
     "data": {
      "text/html": [
       "<div>\n",
       "<style scoped>\n",
       "    .dataframe tbody tr th:only-of-type {\n",
       "        vertical-align: middle;\n",
       "    }\n",
       "\n",
       "    .dataframe tbody tr th {\n",
       "        vertical-align: top;\n",
       "    }\n",
       "\n",
       "    .dataframe thead th {\n",
       "        text-align: right;\n",
       "    }\n",
       "</style>\n",
       "<table border=\"1\" class=\"dataframe\">\n",
       "  <thead>\n",
       "    <tr style=\"text-align: right;\">\n",
       "      <th></th>\n",
       "      <th>isbn13</th>\n",
       "      <th>isbn10</th>\n",
       "      <th>title</th>\n",
       "      <th>subtitle</th>\n",
       "      <th>authors</th>\n",
       "      <th>categories</th>\n",
       "      <th>thumbnail</th>\n",
       "      <th>description</th>\n",
       "      <th>published_year</th>\n",
       "      <th>average_rating</th>\n",
       "      <th>num_pages</th>\n",
       "      <th>ratings_count</th>\n",
       "    </tr>\n",
       "  </thead>\n",
       "  <tbody>\n",
       "    <tr>\n",
       "      <th>3457</th>\n",
       "      <td>9780553297836</td>\n",
       "      <td>055329783X</td>\n",
       "      <td>A Whole New Light</td>\n",
       "      <td>NaN</td>\n",
       "      <td>Sandra Brown</td>\n",
       "      <td>Fiction</td>\n",
       "      <td>http://books.google.com/books/content?id=riEu7...</td>\n",
       "      <td>When her late husband's business partner, Wort...</td>\n",
       "      <td>1992.0</td>\n",
       "      <td>3.55</td>\n",
       "      <td>227.0</td>\n",
       "      <td>2817.0</td>\n",
       "    </tr>\n",
       "    <tr>\n",
       "      <th>4654</th>\n",
       "      <td>9780761956921</td>\n",
       "      <td>0761956921</td>\n",
       "      <td>Société de Consommation</td>\n",
       "      <td>Ses Mythes, Ses Structures</td>\n",
       "      <td>Jean Baudrillard</td>\n",
       "      <td>Social Science</td>\n",
       "      <td>http://books.google.com/books/content?id=Bbex0...</td>\n",
       "      <td>Now available in English for the first time, J...</td>\n",
       "      <td>1998.0</td>\n",
       "      <td>4.13</td>\n",
       "      <td>224.0</td>\n",
       "      <td>654.0</td>\n",
       "    </tr>\n",
       "    <tr>\n",
       "      <th>2647</th>\n",
       "      <td>9780425213612</td>\n",
       "      <td>0425213617</td>\n",
       "      <td>Wicked Ties</td>\n",
       "      <td>NaN</td>\n",
       "      <td>Shayla Black</td>\n",
       "      <td>Fiction</td>\n",
       "      <td>http://books.google.com/books/content?id=sdVnW...</td>\n",
       "      <td>Hiring bodyguard Jack Cole when a stalker turn...</td>\n",
       "      <td>2007.0</td>\n",
       "      <td>3.96</td>\n",
       "      <td>341.0</td>\n",
       "      <td>22083.0</td>\n",
       "    </tr>\n",
       "    <tr>\n",
       "      <th>1092</th>\n",
       "      <td>9780156003650</td>\n",
       "      <td>0156003651</td>\n",
       "      <td>The Double Flame</td>\n",
       "      <td>Love and Eroticism</td>\n",
       "      <td>Octavio Paz</td>\n",
       "      <td>Literary Collections</td>\n",
       "      <td>http://books.google.com/books/content?id=yPGjT...</td>\n",
       "      <td>A collection of essays examines the themes of ...</td>\n",
       "      <td>1996.0</td>\n",
       "      <td>4.21</td>\n",
       "      <td>276.0</td>\n",
       "      <td>577.0</td>\n",
       "    </tr>\n",
       "    <tr>\n",
       "      <th>1119</th>\n",
       "      <td>9780156030489</td>\n",
       "      <td>0156030489</td>\n",
       "      <td>Kiffe Kiffe Tomorrow</td>\n",
       "      <td>NaN</td>\n",
       "      <td>Faïza Guène;Sarah Adams</td>\n",
       "      <td>Fiction</td>\n",
       "      <td>http://books.google.com/books/content?id=fv8tv...</td>\n",
       "      <td>Struggling with an overworked mother, an absen...</td>\n",
       "      <td>2006.0</td>\n",
       "      <td>3.38</td>\n",
       "      <td>179.0</td>\n",
       "      <td>1026.0</td>\n",
       "    </tr>\n",
       "  </tbody>\n",
       "</table>\n",
       "</div>"
      ],
      "text/plain": [
       "             isbn13      isbn10                    title  \\\n",
       "3457  9780553297836  055329783X        A Whole New Light   \n",
       "4654  9780761956921  0761956921  Société de Consommation   \n",
       "2647  9780425213612  0425213617              Wicked Ties   \n",
       "1092  9780156003650  0156003651         The Double Flame   \n",
       "1119  9780156030489  0156030489     Kiffe Kiffe Tomorrow   \n",
       "\n",
       "                        subtitle                  authors  \\\n",
       "3457                         NaN             Sandra Brown   \n",
       "4654  Ses Mythes, Ses Structures         Jean Baudrillard   \n",
       "2647                         NaN             Shayla Black   \n",
       "1092          Love and Eroticism              Octavio Paz   \n",
       "1119                         NaN  Faïza Guène;Sarah Adams   \n",
       "\n",
       "                categories                                          thumbnail  \\\n",
       "3457               Fiction  http://books.google.com/books/content?id=riEu7...   \n",
       "4654        Social Science  http://books.google.com/books/content?id=Bbex0...   \n",
       "2647               Fiction  http://books.google.com/books/content?id=sdVnW...   \n",
       "1092  Literary Collections  http://books.google.com/books/content?id=yPGjT...   \n",
       "1119               Fiction  http://books.google.com/books/content?id=fv8tv...   \n",
       "\n",
       "                                            description  published_year  \\\n",
       "3457  When her late husband's business partner, Wort...          1992.0   \n",
       "4654  Now available in English for the first time, J...          1998.0   \n",
       "2647  Hiring bodyguard Jack Cole when a stalker turn...          2007.0   \n",
       "1092  A collection of essays examines the themes of ...          1996.0   \n",
       "1119  Struggling with an overworked mother, an absen...          2006.0   \n",
       "\n",
       "      average_rating  num_pages  ratings_count  \n",
       "3457            3.55      227.0         2817.0  \n",
       "4654            4.13      224.0          654.0  \n",
       "2647            3.96      341.0        22083.0  \n",
       "1092            4.21      276.0          577.0  \n",
       "1119            3.38      179.0         1026.0  "
      ]
     },
     "execution_count": 4,
     "metadata": {},
     "output_type": "execute_result"
    }
   ],
   "source": [
    "books = pd.read_csv(\"./ds/books.csv\")\n",
    "books.sample(5)"
   ]
  },
  {
   "cell_type": "markdown",
   "id": "700fa7f8",
   "metadata": {},
   "source": [
    "# 1. EDA"
   ]
  },
  {
   "cell_type": "markdown",
   "id": "dbcd226f",
   "metadata": {},
   "source": [
    "### 1.1 Checking if there are null values in the DS"
   ]
  },
  {
   "cell_type": "code",
   "execution_count": 5,
   "id": "74946631",
   "metadata": {},
   "outputs": [
    {
     "name": "stdout",
     "output_type": "stream",
     "text": [
      "<class 'pandas.core.frame.DataFrame'>\n",
      "RangeIndex: 6810 entries, 0 to 6809\n",
      "Data columns (total 12 columns):\n",
      " #   Column          Non-Null Count  Dtype  \n",
      "---  ------          --------------  -----  \n",
      " 0   isbn13          6810 non-null   int64  \n",
      " 1   isbn10          6810 non-null   object \n",
      " 2   title           6810 non-null   object \n",
      " 3   subtitle        2381 non-null   object \n",
      " 4   authors         6738 non-null   object \n",
      " 5   categories      6711 non-null   object \n",
      " 6   thumbnail       6481 non-null   object \n",
      " 7   description     6548 non-null   object \n",
      " 8   published_year  6804 non-null   float64\n",
      " 9   average_rating  6767 non-null   float64\n",
      " 10  num_pages       6767 non-null   float64\n",
      " 11  ratings_count   6767 non-null   float64\n",
      "dtypes: float64(4), int64(1), object(7)\n",
      "memory usage: 638.6+ KB\n"
     ]
    }
   ],
   "source": [
    "books.info()"
   ]
  },
  {
   "cell_type": "code",
   "execution_count": 6,
   "id": "2bacc348",
   "metadata": {},
   "outputs": [
    {
     "data": {
      "text/html": [
       "<div>\n",
       "<style scoped>\n",
       "    .dataframe tbody tr th:only-of-type {\n",
       "        vertical-align: middle;\n",
       "    }\n",
       "\n",
       "    .dataframe tbody tr th {\n",
       "        vertical-align: top;\n",
       "    }\n",
       "\n",
       "    .dataframe thead th {\n",
       "        text-align: right;\n",
       "    }\n",
       "</style>\n",
       "<table border=\"1\" class=\"dataframe\">\n",
       "  <thead>\n",
       "    <tr style=\"text-align: right;\">\n",
       "      <th></th>\n",
       "      <th>isbn13</th>\n",
       "      <th>isbn10</th>\n",
       "      <th>title</th>\n",
       "      <th>subtitle</th>\n",
       "      <th>authors</th>\n",
       "      <th>categories</th>\n",
       "      <th>thumbnail</th>\n",
       "      <th>description</th>\n",
       "      <th>published_year</th>\n",
       "      <th>average_rating</th>\n",
       "      <th>num_pages</th>\n",
       "      <th>ratings_count</th>\n",
       "    </tr>\n",
       "  </thead>\n",
       "  <tbody>\n",
       "    <tr>\n",
       "      <th>0</th>\n",
       "      <td>0.0</td>\n",
       "      <td>0.0</td>\n",
       "      <td>0.0</td>\n",
       "      <td>65.036711</td>\n",
       "      <td>1.057269</td>\n",
       "      <td>1.453744</td>\n",
       "      <td>4.831131</td>\n",
       "      <td>3.847283</td>\n",
       "      <td>0.088106</td>\n",
       "      <td>0.631424</td>\n",
       "      <td>0.631424</td>\n",
       "      <td>0.631424</td>\n",
       "    </tr>\n",
       "  </tbody>\n",
       "</table>\n",
       "</div>"
      ],
      "text/plain": [
       "   isbn13  isbn10  title   subtitle   authors  categories  thumbnail  \\\n",
       "0     0.0     0.0    0.0  65.036711  1.057269    1.453744   4.831131   \n",
       "\n",
       "   description  published_year  average_rating  num_pages  ratings_count  \n",
       "0     3.847283        0.088106        0.631424   0.631424       0.631424  "
      ]
     },
     "execution_count": 6,
     "metadata": {},
     "output_type": "execute_result"
    }
   ],
   "source": [
    "# null_counts = books.isnull().sum()\n",
    "# null_counts\n",
    "# null_percent = (null_counts / len(books)) * 100\n",
    "\n",
    "#or\n",
    "null_percent = books.isnull().mean() * 100\n",
    "null_percent.to_frame().T"
   ]
  },
  {
   "cell_type": "code",
   "execution_count": 7,
   "id": "9ea79e76",
   "metadata": {},
   "outputs": [
    {
     "data": {
      "text/html": [
       "<div>\n",
       "<style scoped>\n",
       "    .dataframe tbody tr th:only-of-type {\n",
       "        vertical-align: middle;\n",
       "    }\n",
       "\n",
       "    .dataframe tbody tr th {\n",
       "        vertical-align: top;\n",
       "    }\n",
       "\n",
       "    .dataframe thead th {\n",
       "        text-align: right;\n",
       "    }\n",
       "</style>\n",
       "<table border=\"1\" class=\"dataframe\">\n",
       "  <thead>\n",
       "    <tr style=\"text-align: right;\">\n",
       "      <th></th>\n",
       "      <th>isbn13</th>\n",
       "      <th>isbn10</th>\n",
       "      <th>title</th>\n",
       "      <th>subtitle</th>\n",
       "      <th>authors</th>\n",
       "      <th>categories</th>\n",
       "      <th>thumbnail</th>\n",
       "      <th>description</th>\n",
       "      <th>published_year</th>\n",
       "      <th>average_rating</th>\n",
       "      <th>num_pages</th>\n",
       "      <th>ratings_count</th>\n",
       "    </tr>\n",
       "  </thead>\n",
       "  <tbody>\n",
       "    <tr>\n",
       "      <th>0</th>\n",
       "      <td>6810</td>\n",
       "      <td>6810</td>\n",
       "      <td>6398</td>\n",
       "      <td>2009</td>\n",
       "      <td>3780</td>\n",
       "      <td>567</td>\n",
       "      <td>6481</td>\n",
       "      <td>6474</td>\n",
       "      <td>94</td>\n",
       "      <td>200</td>\n",
       "      <td>915</td>\n",
       "      <td>3881</td>\n",
       "    </tr>\n",
       "  </tbody>\n",
       "</table>\n",
       "</div>"
      ],
      "text/plain": [
       "   isbn13  isbn10  title  subtitle  authors  categories  thumbnail  \\\n",
       "0    6810    6810   6398      2009     3780         567       6481   \n",
       "\n",
       "   description  published_year  average_rating  num_pages  ratings_count  \n",
       "0         6474              94             200        915           3881  "
      ]
     },
     "execution_count": 7,
     "metadata": {},
     "output_type": "execute_result"
    }
   ],
   "source": [
    "unique_counts = books.nunique().to_frame().T\n",
    "unique_counts"
   ]
  },
  {
   "cell_type": "markdown",
   "id": "db4fffcd",
   "metadata": {},
   "source": [
    "#### What we are concerned about:\n",
    "- a lot of subtitles are missing, approx 2/3 of total `which needs to be handled (removed or used)` [see here](#24-handling-missing-subtitles)\n",
    "- too many categories, but `we might still want to use the category names as they might have valuable information`\n",
    "- only 4% descriptions missing which is okay, but ` we want to check if the missing of description isn't biased`\n",
    "\n",
    "> it is important to check if missing values have some pattern as it can imply some sort of bias."
   ]
  },
  {
   "cell_type": "markdown",
   "id": "682491c6",
   "metadata": {},
   "source": [
    "### 1.2 Further investigating missing values"
   ]
  },
  {
   "cell_type": "code",
   "execution_count": 8,
   "id": "d7ce5f25",
   "metadata": {},
   "outputs": [],
   "source": [
    "import seaborn as sns\n",
    "import matplotlib.pyplot as plt"
   ]
  },
  {
   "cell_type": "code",
   "execution_count": 9,
   "id": "1aa83fff",
   "metadata": {},
   "outputs": [
    {
     "data": {
      "image/png": "[encoded data removed]",
      "text/plain": [
       "<Figure size 640x480 with 2 Axes>"
      ]
     },
     "metadata": {},
     "output_type": "display_data"
    }
   ],
   "source": [
    "\n",
    "ax = plt.axes()\n",
    "sns.heatmap(books.isna().T, cbar=True, ax =ax)\n",
    "plt.xlabel(\"Rows/Records\")\n",
    "plt.ylabel(\"Columns\")\n",
    "plt.show()"
   ]
  },
  {
   "cell_type": "markdown",
   "id": "0464df6c",
   "metadata": {},
   "source": [
    "> for the last three columns, when one value is missing, all of the values are missing. it could mean, the records were added from other smaller dataset that didn't contain those columns"
   ]
  },
  {
   "cell_type": "markdown",
   "id": "658b4c99",
   "metadata": {},
   "source": [
    "### 1.3 Checking the correlation between missing description and other colums (like age, rating, number of pages)"
   ]
  },
  {
   "cell_type": "code",
   "execution_count": 10,
   "id": "c6aad24f",
   "metadata": {},
   "outputs": [],
   "source": [
    "import numpy as np"
   ]
  },
  {
   "cell_type": "code",
   "execution_count": 11,
   "id": "866a21b2",
   "metadata": {},
   "outputs": [],
   "source": [
    "\n",
    "books[\"missing_description\"] = np.where(books[\"description\"].isnull(), 1, 0)\n",
    "books[\"age\"] = 2025 - books[\"published_year\"]"
   ]
  },
  {
   "cell_type": "code",
   "execution_count": 12,
   "id": "bb114938",
   "metadata": {},
   "outputs": [],
   "source": [
    "cols_of_interest = [\"missing_description\", \"age\", \"num_pages\", \"average_rating\"]"
   ]
  },
  {
   "cell_type": "code",
   "execution_count": 13,
   "id": "353030ab",
   "metadata": {},
   "outputs": [
    {
     "data": {
      "image/png": "[encoded data removed]",
      "text/plain": [
       "<Figure size 640x480 with 2 Axes>"
      ]
     },
     "metadata": {},
     "output_type": "display_data"
    }
   ],
   "source": [
    "correlation_matrix = books[cols_of_interest].corr(\"spearman\")\n",
    "heatmap = sns.heatmap(correlation_matrix, annot=True, fmt=\".3f\", cmap=\"coolwarm\", vmin=-1, vmax=1, cbar_kws={\"label\": \"Correaltion coeffs. (spearman)\"})\n",
    "heatmap.set_title(\"Correlation Heatmap\")\n",
    "plt.show()"
   ]
  },
  {
   "cell_type": "markdown",
   "id": "44599f69",
   "metadata": {},
   "source": [
    "> The missing_description seems to be uncorrelated with age, num_pages and average_rating. So, we can move on"
   ]
  },
  {
   "cell_type": "markdown",
   "id": "858d3b5d",
   "metadata": {},
   "source": [
    "# 2. Transforming"
   ]
  },
  {
   "cell_type": "markdown",
   "id": "91eb6c35",
   "metadata": {},
   "source": [
    "### 2.1 Removing the entries that have null values\n",
    "**for description, num_pages, avg_rating and published year as they make up only a little `(<5%)` of our dataset**"
   ]
  },
  {
   "cell_type": "code",
   "execution_count": 14,
   "id": "f5ce86b6",
   "metadata": {},
   "outputs": [
    {
     "data": {
      "text/plain": [
       "(303, 14)"
      ]
     },
     "execution_count": 14,
     "metadata": {},
     "output_type": "execute_result"
    }
   ],
   "source": [
    "invalid_entries = books[(books[\"description\"].isna()) | (books[\"num_pages\"].isna()) | (books[\"average_rating\"].isna()) | (books[\"published_year\"].isna())]\n",
    "invalid_entries.shape"
   ]
  },
  {
   "cell_type": "code",
   "execution_count": 15,
   "id": "992ee2c7",
   "metadata": {},
   "outputs": [
    {
     "data": {
      "text/plain": [
       "(6507, 14)"
      ]
     },
     "execution_count": 15,
     "metadata": {},
     "output_type": "execute_result"
    }
   ],
   "source": [
    "valid_entries = books[~((books[\"description\"].isna()) | (books[\"num_pages\"].isna()) | (books[\"average_rating\"].isna()) | (books[\"published_year\"].isna()))].copy() #doing copy to create an independent copy of the dataframe\n",
    "valid_entries.shape"
   ]
  },
  {
   "cell_type": "markdown",
   "id": "fa3d8f31",
   "metadata": {},
   "source": [
    "### 2.2  Examining the categories column **(which has 500+ unique category calues)** and fixing it"
   ]
  },
  {
   "cell_type": "code",
   "execution_count": 16,
   "id": "ec5b4694",
   "metadata": {},
   "outputs": [],
   "source": [
    "category_count = valid_entries[\"categories\"].value_counts().reset_index().sort_values(\"count\", ascending=False)"
   ]
  },
  {
   "cell_type": "markdown",
   "id": "089b507c",
   "metadata": {},
   "source": [
    "> with matplotlib"
   ]
  },
  {
   "cell_type": "code",
   "execution_count": 17,
   "id": "fd33bc4b",
   "metadata": {},
   "outputs": [
    {
     "data": {
      "image/png": "[encoded data removed]",
      "text/plain": [
       "<Figure size 3000x600 with 1 Axes>"
      ]
     },
     "metadata": {},
     "output_type": "display_data"
    }
   ],
   "source": [
    "\n",
    "plt.figure(figsize=(30,6))\n",
    "plt.bar(category_count[\"categories\"][:100],category_count[\"count\"][:100], color='skyblue')\n",
    "plt.title('Top 100 categories')\n",
    "plt.xlabel('categories')\n",
    "plt.ylabel('count')\n",
    "\n",
    "plt.xticks(rotation=90)\n",
    "\n",
    "plt.show()"
   ]
  },
  {
   "cell_type": "markdown",
   "id": "0b6a5c4f",
   "metadata": {},
   "source": [
    "> with plotly"
   ]
  },
  {
   "cell_type": "code",
   "execution_count": 18,
   "id": "08977945",
   "metadata": {},
   "outputs": [
    {
     "data": {
      "application/vnd.plotly.v1+json": {
       "config": {
        "plotlyServerURL": "https://plot.ly"
       },
       "data": [
        {
         "hovertemplate": "Category=%{x}<br>Count=%{y}<extra></extra>",
         "legendgroup": "",
         "marker": {
          "color": "#636efa",
          "pattern": {
           "shape": ""
          }
         },
         "name": "",
         "orientation": "v",
         "showlegend": false,
         "textposition": "auto",
         "type": "bar",
         "x": [
          "Fiction",
          "Juvenile Fiction",
          "Biography & Autobiography",
          "History",
          "Literary Criticism",
          "Philosophy",
          "Comics & Graphic Novels",
          "Religion",
          "Drama",
          "Juvenile Nonfiction",
          "Poetry",
          "Literary Collections",
          "Science",
          "Business & Economics",
          "Social Science",
          "Performing Arts",
          "Cooking",
          "Art",
          "Body, Mind & Spirit",
          "Travel",
          "Computers",
          "Psychology",
          "Political Science",
          "Self-Help",
          "Family & Relationships",
          "Humor",
          "Health & Fitness",
          "Language Arts & Disciplines",
          "Education",
          "Children's stories",
          "Nature",
          "Medical",
          "Adventure stories",
          "Music",
          "Games",
          "English fiction",
          "Sports & Recreation",
          "Detective and mystery stories",
          "Fantasy fiction",
          "American fiction",
          "True Crime",
          "Foreign Language Study",
          "Reference",
          "Law",
          "Photography",
          "Architecture",
          "Science fiction",
          "Crafts & Hobbies",
          "Authors, American",
          "Americans",
          "Young Adult Fiction",
          "Pets",
          "City and town life",
          "Games & Activities",
          "Mathematics",
          "England",
          "Fantasy",
          "Life on other planets",
          "Short stories",
          "Adultery",
          "American literature",
          "Design",
          "Discworld (Imaginary place)",
          "Gardening",
          "FICTION",
          "Families",
          "Bail bond agents",
          "Baggins, Frodo (Fictitious character)",
          "Study Aids",
          "Technology & Engineering",
          "London (England)",
          "British",
          "Blind",
          "Great Britain",
          "Authors, English",
          "Detective and mystery stories, English",
          "Conduct of life",
          "Cosmology",
          "House & Home",
          "Domestic fiction",
          "Boston (Mass.)",
          "Classical fiction",
          "Fantasy fiction, American",
          "Graphic novels",
          "African Americans",
          "Comic books, strips, etc",
          "Fairy tales",
          "Cities and towns",
          "Boys",
          "Cats",
          "China",
          "Continental Op (Fictitious character)",
          "Authors",
          "Fantasy fiction, English",
          "Christian life",
          "Antiques & Collectibles",
          "Brothers",
          "Dreams",
          "Friendship",
          "Beowulf",
          "Bible",
          "Horror tales",
          "Bibles",
          "Botswana",
          "Humorous stories, English",
          "Children's stories, English",
          "BIOGRAPHY & AUTOBIOGRAPHY",
          "Christmas",
          "Children of the rich",
          "Antiheroes",
          "Arctic regions",
          "English language",
          "Intelligence service",
          "Canada",
          "Dent, Arthur (Fictitious character)",
          "English",
          "Ballet",
          "Alcoholics",
          "Historical fiction",
          "Crusades",
          "Death",
          "Adventure fiction",
          "Transportation",
          "Family life",
          "Man-woman relationships",
          "Latin America",
          "Europe",
          "JUVENILE FICTION",
          "History, Modern",
          "Japan",
          "English drama",
          "Arthurian romances",
          "Chocolate",
          "Folklore",
          "Experimental fiction",
          "Horror tales, American",
          "Capitalism",
          "Arithmetic",
          "Christianity",
          "Cowboys",
          "Finance, Personal",
          "Alienation (Social psychology)",
          "Children's poetry, American",
          "Cancer",
          "Political science",
          "Contests",
          "Short stories, American",
          "American poetry",
          "Australian fiction",
          "Magic",
          "Australia",
          "United States",
          "American wit and humor, Pictorial",
          "Belgians",
          "Bond, James (Fictitious character)",
          "Christmas stories",
          "Los Angeles (Calif.)",
          "Science fiction, American",
          "Cookery",
          "College teachers",
          "Adventure stories, American",
          "Canterbury (England)",
          "Aging",
          "Outlaws",
          "Bedtime",
          "Cosmetics industry",
          "Archaeological expeditions",
          "Partition of decedents' estates",
          "Reducing diets",
          "Explorers",
          "Labrador retriever",
          "Love",
          "Chrestomanci (Fictitious character)",
          "Boarding school-fiction",
          "Photographers",
          "Language and languages",
          "Blacks",
          "Dallas, Eve (Fictitious character)",
          "City girl",
          "Businessmen",
          "Humorous fiction",
          "Confianza en sí mismo",
          "Birds",
          "Bus travel",
          "Teenagers",
          "Gambling",
          "Poets, American",
          "Czech Republic",
          "Prisoners of war",
          "Englisch - Geschichte - Lyrik - Aufsatzsammlung",
          "Mathematicians",
          "Black humor (Literature)",
          "Apartment houses",
          "Adult education",
          "Boarding schools",
          "Short stories, English",
          "Alternative histories (Fiction)",
          "Ballet dancers",
          "Cider house rules. (Motion picture)",
          "New York (State)",
          "Eretz Israel",
          "Apprentices",
          "Manuscripts",
          "Divorced people",
          "Amazon River Region",
          "Motion picture actors and actresses",
          "African American men",
          "Sex customs",
          "Provence (France)",
          "Essentialism (Philosophy)",
          "Animal sounds",
          "Music trade",
          "Computer science",
          "Democracy",
          "Psycho (Motion picture : 1960)",
          "Business women",
          "Angels",
          "Polish poetry",
          "Interplanetary voyages",
          "Friendship in adolescence",
          "Behavior",
          "Acting",
          "Horror stories.",
          "Family",
          "Sexual behavior surveys",
          "Espionage",
          "Electronic books",
          "Love poetry",
          "Alcestis (Greek mythology)",
          "Aboriginal Australians",
          "Christian fiction",
          "Napoleonic Wars, 1800-1815",
          "Ballets",
          "Humorous stories",
          "Butlers",
          "Gardens",
          "Assassins",
          "Married people",
          "Actors and actresses",
          "Church work with the poor",
          "Estados Unidos - Relaciones exteriores - 1945-1989",
          "Divorce",
          "Death (Fictitious character : Gaiman)",
          "Astronomers",
          "Epic literature",
          "Black market",
          "Shipwrecks",
          "Cerebrovascular disease",
          "Communication in families",
          "Audiobooks",
          "Existentialism",
          "Autism",
          "Botanique",
          "English essays",
          "Authors, Cuban",
          "Children of divorced parents",
          "Animals",
          "Otherland (Imaginary place)",
          "Courage",
          "Identity (Psychology)",
          "Mars (Planet)",
          "Bosnia and Herzegovina",
          "Disasters",
          "Lisbon (Portugal)",
          "Aeronautics",
          "Childbirth",
          "Consumer behavior",
          "Gay men",
          "Conan (Fictitious character)",
          "Nineteen ninety-eight, A.D.",
          "Africa, East",
          "Detective and mystery stories, American",
          "Amnesty",
          "Everest, Mount (China and Nepal)",
          "Adjustment (Psychology)",
          "Boats and boating",
          "People with social disabilities",
          "Minimal brain dysfunction in children",
          "Spiritual life",
          "Meditation",
          "Seduction",
          "Large print books",
          "Dragons",
          "Christian saints",
          "Insane, Criminal and dangerous",
          "Airplane crash survival",
          "Novelists, English",
          "Escapes",
          "Castle Rock (Me. : Imaginary place)",
          "Benedictine monasteries",
          "Amyotrophic lateral sclerosis",
          "Abused wives",
          "Birthparents",
          "Inventions",
          "87th Precinct (Imaginary place)",
          "Women terrorists",
          "Organized Crime",
          "Defectors",
          "College stories",
          "Crime investigations",
          "Austria",
          "Chick lit",
          "Female friendship",
          "Cornwall (England : County)",
          "Film producers and directors",
          "Kyoto (Japan)",
          "Conner, Rainie (Fictitious character)",
          "Building laws",
          "LITERARY CRITICISM",
          "Amish",
          "Human-animal relationships",
          "Aircraft accidents",
          "Sea stories",
          "Detective and mystery comic books, strips, etc",
          "Theology, Doctrinal",
          "Aeneas (Legendary character)",
          "Cookbooks",
          "Physics",
          "European fiction",
          "Heroes",
          "Bumppo, Natty (Fictitious character)",
          "Illinois",
          "Yoknapatawpha County (Imaginary place)",
          "Humorous stories, American",
          "Book burning",
          "Nanjing (Jiangsu Sheng, China)",
          "Surealism",
          "Cellists",
          "Holt, Max (Fictitious character)",
          "Zoology",
          "Dystopias",
          "Good and evil",
          "Artists",
          "War",
          "Igbo (African people)",
          "Ghost stories, American",
          "Pigeons",
          "Electrons",
          "Existential psychotherapy",
          "Albigenses",
          "Cults",
          "Business enterprises",
          "Emotional problems",
          "Characters and characteristics in motion pictures",
          "Adolescence",
          "Hallucinogenic drugs",
          "Parenthood",
          "Vietnam War, 1961-1975",
          "American essays",
          "Divorced women",
          "Bracelets",
          "Egyptologists",
          "Demonology",
          "Feature films [DVD]",
          "Accidents",
          "World War, 1914-1918",
          "Fairy tales, English",
          "Candy",
          "Courtship",
          "Dracula, Count (Fictitious character)",
          "Dead",
          "Cabrillo, Juan (Fictitious character)",
          "Jews",
          "Children of Holocaust survivors",
          "American wit and humor",
          "Experimental fiction, American",
          "Argentine literature",
          "Novelists, American",
          "Literature",
          "Czechoslovakia",
          "French drama",
          "Sex",
          "Tobruk, Battles of, 1941-1942",
          "Confucianism",
          "Authors, Italian",
          "Canadian wit and humor",
          "Obesity",
          "High schools",
          "English poetry",
          "Amour - Ouvrages avant 1800",
          "College attendance",
          "Men",
          "Battle, Superintendent (Fictitious character)",
          "Cambridge (Mass.)",
          "African Americans in radio broadcasting",
          "Computer programmers",
          "Actors",
          "Hyland, Morn (Fictitious character)",
          "Country life",
          "Clergy",
          "Aubrey, Jack (Fictitious character)",
          "Black Death",
          "Human cloning",
          "Atonement",
          "Aged women",
          "Ireland",
          "Male friendship",
          "Beresford, Tommy (Fictitious character)",
          "Imaginary wars and battles",
          "Dysfunctional families",
          "Poirot, Hercule (Fictitious character)",
          "Marple, Jane (Fictitious character)",
          "Girls",
          "Elves",
          "Imperialism",
          "Authors, Arab",
          "Indic fiction (English)",
          "Badgers",
          "Gangs",
          "Human behavior",
          "Social action",
          "Horror",
          "Galicia (Spain : Region)",
          "Businesswomen",
          "Crime investigation",
          "Authors, German",
          "Exorcism",
          "Azerbaijan",
          "Grandmothers",
          "Slave insurrections",
          "Amis, Kingsley",
          "Dangerously mentally ill",
          "Anger",
          "Comedy",
          "Alzheimer's disease",
          "Essays",
          "Mothers and sons",
          "Physicists",
          "Costume",
          "African American plantation owners",
          "Animals, Treatment of",
          "Dublin (Ireland)",
          "Queens",
          "Television",
          "Bullying",
          "Catholic women",
          "France",
          "Cooking, French",
          "Occult fiction",
          "Caterpillars",
          "Ryan, Jack (Fictitious character)",
          "Lecter, Hannibal (Fictitious character)",
          "American drama",
          "Curiosities and wonders",
          "Dating (Social customs)",
          "Buddhism",
          "Bereavement",
          "Human-alien encounters",
          "Motion picture plays",
          "Amnesia",
          "Auschwitz (Poland : Concentration camp)",
          "Political fiction",
          "Antisemitism",
          "Popular culture",
          "Misogyny",
          "Children's plays",
          "Czech fiction",
          "Civil law",
          "Hitchhiking",
          "Latin poetry",
          "Fantasy.",
          "Mental illness",
          "Allegories",
          "Dominican Republic",
          "Blake, Anita (Fictitious character)",
          "Science fiction, English.",
          "Detective and mystery stories, English.",
          "Alanna (Fictitious character : Pierce)",
          "Drenai (Imaginary place)",
          "Persian Gulf War, 1991",
          "Criminals",
          "Arabic fiction",
          "Brewing",
          "Animals, Mythical",
          "Diaries",
          "Babysitters Club (Imaginary organization)",
          "Horror stories",
          "Trials (Witchcraft)",
          "Ghost stories",
          "Stone age",
          "Science fiction, English",
          "Diary fiction",
          "Catholics",
          "Political leadership",
          "Bosnia and Hercegovina",
          "Mormon fundamentalism",
          "Erinyes (Greek mythology)",
          "Greek drama (Tragedy)",
          "Babytime resource",
          "Little, Stuart (Fictitious character)",
          "Baggins, Bilbo (Fictitious character)",
          "Zero (The number)",
          "Apartheid",
          "Poets, Chilean",
          "Art museum curators",
          "Literary Criticism & Collections",
          "Epidemics",
          "Repression (Psychology)",
          "Mentally ill",
          "Handicapped youth",
          "Sea monsters",
          "Adirondack Mountains (N.Y.)",
          "Adult children",
          "Agriculture",
          "First loves",
          "Psychoanalysis and religion",
          "Vice-Presidents",
          "American Wit And Humour",
          "Cocaine industry",
          "Murder",
          "India",
          "Bombings",
          "Autonomy (Psychology).",
          "Paris (France)",
          "Antislavery movements",
          "Books",
          "Apartments",
          "Egypt",
          "Germany",
          "Adventure stories, English",
          "Animal sanctuaries",
          "New England",
          "Authors, Canadian",
          "Abandoned mines",
          "Air pilots",
          "Community life",
          "Rock musicians",
          "Banks and banking, British",
          "Brothers and sisters",
          "Conspiracies",
          "Actresses"
         ],
         "xaxis": "x",
         "y": {
          "bdata": "2wkWAocBAgGkAJoAmACIAH4AcgBLAEYARQBCADoAMQAuAC0ALAArACoAKQAkACQAIgAgACAAHwAbABsAGAAYABYAEwATABIAEQAQAA8ADgAMAAwACwALAAsACgAJAAgACAAIAAgACAAHAAcABwAHAAcABwAHAAYABgAGAAYABgAGAAYABQAFAAUABQAFAAUABAAEAAQABAAEAAQABAAEAAQABAAEAAQAAwADAAMAAwADAAMAAwADAAMAAwADAAMAAwADAAMAAwADAAMAAwADAAMAAwADAAIAAgACAAIAAgACAAIAAgACAAIAAgACAAIAAgACAAIAAgACAAIAAgACAAIAAgACAAIAAgACAAIAAgACAAIAAgACAAIAAgACAAIAAgACAAIAAgACAAIAAgACAAIAAgACAAIAAgACAAIAAgABAAEAAQABAAEAAQABAAEAAQABAAEAAQABAAEAAQABAAEAAQABAAEAAQABAAEAAQABAAEAAQABAAEAAQABAAEAAQABAAEAAQABAAEAAQABAAEAAQABAAEAAQABAAEAAQABAAEAAQABAAEAAQABAAEAAQABAAEAAQABAAEAAQABAAEAAQABAAEAAQABAAEAAQABAAEAAQABAAEAAQABAAEAAQABAAEAAQABAAEAAQABAAEAAQABAAEAAQABAAEAAQABAAEAAQABAAEAAQABAAEAAQABAAEAAQABAAEAAQABAAEAAQABAAEAAQABAAEAAQABAAEAAQABAAEAAQABAAEAAQABAAEAAQABAAEAAQABAAEAAQABAAEAAQABAAEAAQABAAEAAQABAAEAAQABAAEAAQABAAEAAQABAAEAAQABAAEAAQABAAEAAQABAAEAAQABAAEAAQABAAEAAQABAAEAAQABAAEAAQABAAEAAQABAAEAAQABAAEAAQABAAEAAQABAAEAAQABAAEAAQABAAEAAQABAAEAAQABAAEAAQABAAEAAQABAAEAAQABAAEAAQABAAEAAQABAAEAAQABAAEAAQABAAEAAQABAAEAAQABAAEAAQABAAEAAQABAAEAAQABAAEAAQABAAEAAQABAAEAAQABAAEAAQABAAEAAQABAAEAAQABAAEAAQABAAEAAQABAAEAAQABAAEAAQABAAEAAQABAAEAAQABAAEAAQABAAEAAQABAAEAAQABAAEAAQABAAEAAQABAAEAAQABAAEAAQABAAEAAQABAAEAAQABAAEAAQABAAEAAQABAAEAAQABAAEAAQABAAEAAQABAAEAAQABAAEAAQABAAEAAQABAAEAAQABAAEAAQABAAEAAQABAAEAAQABAAEAAQABAAEAAQABAAEAAQABAAEAAQABAAEAAQABAAEAAQABAAEAAQABAAEAAQABAAEAAQABAAEAAQABAAEA",
          "dtype": "i2"
         },
         "yaxis": "y"
        }
       ],
       "layout": {
        "barmode": "relative",
        "height": 500,
        "legend": {
         "tracegroupgap": 0
        },
        "margin": {
         "b": 40,
         "l": 40,
         "r": 40,
         "t": 80
        },
        "template": {
         "data": {
          "bar": [
           {
            "error_x": {
             "color": "#2a3f5f"
            },
            "error_y": {
             "color": "#2a3f5f"
            },
            "marker": {
             "line": {
              "color": "white",
              "width": 0.5
             },
             "pattern": {
              "fillmode": "overlay",
              "size": 10,
              "solidity": 0.2
             }
            },
            "type": "bar"
           }
          ],
          "barpolar": [
           {
            "marker": {
             "line": {
              "color": "white",
              "width": 0.5
             },
             "pattern": {
              "fillmode": "overlay",
              "size": 10,
              "solidity": 0.2
             }
            },
            "type": "barpolar"
           }
          ],
          "carpet": [
           {
            "aaxis": {
             "endlinecolor": "#2a3f5f",
             "gridcolor": "#C8D4E3",
             "linecolor": "#C8D4E3",
             "minorgridcolor": "#C8D4E3",
             "startlinecolor": "#2a3f5f"
            },
            "baxis": {
             "endlinecolor": "#2a3f5f",
             "gridcolor": "#C8D4E3",
             "linecolor": "#C8D4E3",
             "minorgridcolor": "#C8D4E3",
             "startlinecolor": "#2a3f5f"
            },
            "type": "carpet"
           }
          ],
          "choropleth": [
           {
            "colorbar": {
             "outlinewidth": 0,
             "ticks": ""
            },
            "type": "choropleth"
           }
          ],
          "contour": [
           {
            "colorbar": {
             "outlinewidth": 0,
             "ticks": ""
            },
            "colorscale": [
             [
              0,
              "#0d0887"
             ],
             [
              0.1111111111111111,
              "#46039f"
             ],
             [
              0.2222222222222222,
              "#7201a8"
             ],
             [
              0.3333333333333333,
              "#9c179e"
             ],
             [
              0.4444444444444444,
              "#bd3786"
             ],
             [
              0.5555555555555556,
              "#d8576b"
             ],
             [
              0.6666666666666666,
              "#ed7953"
             ],
             [
              0.7777777777777778,
              "#fb9f3a"
             ],
             [
              0.8888888888888888,
              "#fdca26"
             ],
             [
              1,
              "#f0f921"
             ]
            ],
            "type": "contour"
           }
          ],
          "contourcarpet": [
           {
            "colorbar": {
             "outlinewidth": 0,
             "ticks": ""
            },
            "type": "contourcarpet"
           }
          ],
          "heatmap": [
           {
            "colorbar": {
             "outlinewidth": 0,
             "ticks": ""
            },
            "colorscale": [
             [
              0,
              "#0d0887"
             ],
             [
              0.1111111111111111,
              "#46039f"
             ],
             [
              0.2222222222222222,
              "#7201a8"
             ],
             [
              0.3333333333333333,
              "#9c179e"
             ],
             [
              0.4444444444444444,
              "#bd3786"
             ],
             [
              0.5555555555555556,
              "#d8576b"
             ],
             [
              0.6666666666666666,
              "#ed7953"
             ],
             [
              0.7777777777777778,
              "#fb9f3a"
             ],
             [
              0.8888888888888888,
              "#fdca26"
             ],
             [
              1,
              "#f0f921"
             ]
            ],
            "type": "heatmap"
           }
          ],
          "histogram": [
           {
            "marker": {
             "pattern": {
              "fillmode": "overlay",
              "size": 10,
              "solidity": 0.2
             }
            },
            "type": "histogram"
           }
          ],
          "histogram2d": [
           {
            "colorbar": {
             "outlinewidth": 0,
             "ticks": ""
            },
            "colorscale": [
             [
              0,
              "#0d0887"
             ],
             [
              0.1111111111111111,
              "#46039f"
             ],
             [
              0.2222222222222222,
              "#7201a8"
             ],
             [
              0.3333333333333333,
              "#9c179e"
             ],
             [
              0.4444444444444444,
              "#bd3786"
             ],
             [
              0.5555555555555556,
              "#d8576b"
             ],
             [
              0.6666666666666666,
              "#ed7953"
             ],
             [
              0.7777777777777778,
              "#fb9f3a"
             ],
             [
              0.8888888888888888,
              "#fdca26"
             ],
             [
              1,
              "#f0f921"
             ]
            ],
            "type": "histogram2d"
           }
          ],
          "histogram2dcontour": [
           {
            "colorbar": {
             "outlinewidth": 0,
             "ticks": ""
            },
            "colorscale": [
             [
              0,
              "#0d0887"
             ],
             [
              0.1111111111111111,
              "#46039f"
             ],
             [
              0.2222222222222222,
              "#7201a8"
             ],
             [
              0.3333333333333333,
              "#9c179e"
             ],
             [
              0.4444444444444444,
              "#bd3786"
             ],
             [
              0.5555555555555556,
              "#d8576b"
             ],
             [
              0.6666666666666666,
              "#ed7953"
             ],
             [
              0.7777777777777778,
              "#fb9f3a"
             ],
             [
              0.8888888888888888,
              "#fdca26"
             ],
             [
              1,
              "#f0f921"
             ]
            ],
            "type": "histogram2dcontour"
           }
          ],
          "mesh3d": [
           {
            "colorbar": {
             "outlinewidth": 0,
             "ticks": ""
            },
            "type": "mesh3d"
           }
          ],
          "parcoords": [
           {
            "line": {
             "colorbar": {
              "outlinewidth": 0,
              "ticks": ""
             }
            },
            "type": "parcoords"
           }
          ],
          "pie": [
           {
            "automargin": true,
            "type": "pie"
           }
          ],
          "scatter": [
           {
            "fillpattern": {
             "fillmode": "overlay",
             "size": 10,
             "solidity": 0.2
            },
            "type": "scatter"
           }
          ],
          "scatter3d": [
           {
            "line": {
             "colorbar": {
              "outlinewidth": 0,
              "ticks": ""
             }
            },
            "marker": {
             "colorbar": {
              "outlinewidth": 0,
              "ticks": ""
             }
            },
            "type": "scatter3d"
           }
          ],
          "scattercarpet": [
           {
            "marker": {
             "colorbar": {
              "outlinewidth": 0,
              "ticks": ""
             }
            },
            "type": "scattercarpet"
           }
          ],
          "scattergeo": [
           {
            "marker": {
             "colorbar": {
              "outlinewidth": 0,
              "ticks": ""
             }
            },
            "type": "scattergeo"
           }
          ],
          "scattergl": [
           {
            "marker": {
             "colorbar": {
              "outlinewidth": 0,
              "ticks": ""
             }
            },
            "type": "scattergl"
           }
          ],
          "scattermap": [
           {
            "marker": {
             "colorbar": {
              "outlinewidth": 0,
              "ticks": ""
             }
            },
            "type": "scattermap"
           }
          ],
          "scattermapbox": [
           {
            "marker": {
             "colorbar": {
              "outlinewidth": 0,
              "ticks": ""
             }
            },
            "type": "scattermapbox"
           }
          ],
          "scatterpolar": [
           {
            "marker": {
             "colorbar": {
              "outlinewidth": 0,
              "ticks": ""
             }
            },
            "type": "scatterpolar"
           }
          ],
          "scatterpolargl": [
           {
            "marker": {
             "colorbar": {
              "outlinewidth": 0,
              "ticks": ""
             }
            },
            "type": "scatterpolargl"
           }
          ],
          "scatterternary": [
           {
            "marker": {
             "colorbar": {
              "outlinewidth": 0,
              "ticks": ""
             }
            },
            "type": "scatterternary"
           }
          ],
          "surface": [
           {
            "colorbar": {
             "outlinewidth": 0,
             "ticks": ""
            },
            "colorscale": [
             [
              0,
              "#0d0887"
             ],
             [
              0.1111111111111111,
              "#46039f"
             ],
             [
              0.2222222222222222,
              "#7201a8"
             ],
             [
              0.3333333333333333,
              "#9c179e"
             ],
             [
              0.4444444444444444,
              "#bd3786"
             ],
             [
              0.5555555555555556,
              "#d8576b"
             ],
             [
              0.6666666666666666,
              "#ed7953"
             ],
             [
              0.7777777777777778,
              "#fb9f3a"
             ],
             [
              0.8888888888888888,
              "#fdca26"
             ],
             [
              1,
              "#f0f921"
             ]
            ],
            "type": "surface"
           }
          ],
          "table": [
           {
            "cells": {
             "fill": {
              "color": "#EBF0F8"
             },
             "line": {
              "color": "white"
             }
            },
            "header": {
             "fill": {
              "color": "#C8D4E3"
             },
             "line": {
              "color": "white"
             }
            },
            "type": "table"
           }
          ]
         },
         "layout": {
          "annotationdefaults": {
           "arrowcolor": "#2a3f5f",
           "arrowhead": 0,
           "arrowwidth": 1
          },
          "autotypenumbers": "strict",
          "coloraxis": {
           "colorbar": {
            "outlinewidth": 0,
            "ticks": ""
           }
          },
          "colorscale": {
           "diverging": [
            [
             0,
             "#8e0152"
            ],
            [
             0.1,
             "#c51b7d"
            ],
            [
             0.2,
             "#de77ae"
            ],
            [
             0.3,
             "#f1b6da"
            ],
            [
             0.4,
             "#fde0ef"
            ],
            [
             0.5,
             "#f7f7f7"
            ],
            [
             0.6,
             "#e6f5d0"
            ],
            [
             0.7,
             "#b8e186"
            ],
            [
             0.8,
             "#7fbc41"
            ],
            [
             0.9,
             "#4d9221"
            ],
            [
             1,
             "#276419"
            ]
           ],
           "sequential": [
            [
             0,
             "#0d0887"
            ],
            [
             0.1111111111111111,
             "#46039f"
            ],
            [
             0.2222222222222222,
             "#7201a8"
            ],
            [
             0.3333333333333333,
             "#9c179e"
            ],
            [
             0.4444444444444444,
             "#bd3786"
            ],
            [
             0.5555555555555556,
             "#d8576b"
            ],
            [
             0.6666666666666666,
             "#ed7953"
            ],
            [
             0.7777777777777778,
             "#fb9f3a"
            ],
            [
             0.8888888888888888,
             "#fdca26"
            ],
            [
             1,
             "#f0f921"
            ]
           ],
           "sequentialminus": [
            [
             0,
             "#0d0887"
            ],
            [
             0.1111111111111111,
             "#46039f"
            ],
            [
             0.2222222222222222,
             "#7201a8"
            ],
            [
             0.3333333333333333,
             "#9c179e"
            ],
            [
             0.4444444444444444,
             "#bd3786"
            ],
            [
             0.5555555555555556,
             "#d8576b"
            ],
            [
             0.6666666666666666,
             "#ed7953"
            ],
            [
             0.7777777777777778,
             "#fb9f3a"
            ],
            [
             0.8888888888888888,
             "#fdca26"
            ],
            [
             1,
             "#f0f921"
            ]
           ]
          },
          "colorway": [
           "#636efa",
           "#EF553B",
           "#00cc96",
           "#ab63fa",
           "#FFA15A",
           "#19d3f3",
           "#FF6692",
           "#B6E880",
           "#FF97FF",
           "#FECB52"
          ],
          "font": {
           "color": "#2a3f5f"
          },
          "geo": {
           "bgcolor": "white",
           "lakecolor": "white",
           "landcolor": "white",
           "showlakes": true,
           "showland": true,
           "subunitcolor": "#C8D4E3"
          },
          "hoverlabel": {
           "align": "left"
          },
          "hovermode": "closest",
          "mapbox": {
           "style": "light"
          },
          "paper_bgcolor": "white",
          "plot_bgcolor": "white",
          "polar": {
           "angularaxis": {
            "gridcolor": "#EBF0F8",
            "linecolor": "#EBF0F8",
            "ticks": ""
           },
           "bgcolor": "white",
           "radialaxis": {
            "gridcolor": "#EBF0F8",
            "linecolor": "#EBF0F8",
            "ticks": ""
           }
          },
          "scene": {
           "xaxis": {
            "backgroundcolor": "white",
            "gridcolor": "#DFE8F3",
            "gridwidth": 2,
            "linecolor": "#EBF0F8",
            "showbackground": true,
            "ticks": "",
            "zerolinecolor": "#EBF0F8"
           },
           "yaxis": {
            "backgroundcolor": "white",
            "gridcolor": "#DFE8F3",
            "gridwidth": 2,
            "linecolor": "#EBF0F8",
            "showbackground": true,
            "ticks": "",
            "zerolinecolor": "#EBF0F8"
           },
           "zaxis": {
            "backgroundcolor": "white",
            "gridcolor": "#DFE8F3",
            "gridwidth": 2,
            "linecolor": "#EBF0F8",
            "showbackground": true,
            "ticks": "",
            "zerolinecolor": "#EBF0F8"
           }
          },
          "shapedefaults": {
           "line": {
            "color": "#2a3f5f"
           }
          },
          "ternary": {
           "aaxis": {
            "gridcolor": "#DFE8F3",
            "linecolor": "#A2B1C6",
            "ticks": ""
           },
           "baxis": {
            "gridcolor": "#DFE8F3",
            "linecolor": "#A2B1C6",
            "ticks": ""
           },
           "bgcolor": "white",
           "caxis": {
            "gridcolor": "#DFE8F3",
            "linecolor": "#A2B1C6",
            "ticks": ""
           }
          },
          "title": {
           "x": 0.05
          },
          "xaxis": {
           "automargin": true,
           "gridcolor": "#EBF0F8",
           "linecolor": "#EBF0F8",
           "ticks": "",
           "title": {
            "standoff": 15
           },
           "zerolinecolor": "#EBF0F8",
           "zerolinewidth": 2
          },
          "yaxis": {
           "automargin": true,
           "gridcolor": "#EBF0F8",
           "linecolor": "#EBF0F8",
           "ticks": "",
           "title": {
            "standoff": 15
           },
           "zerolinecolor": "#EBF0F8",
           "zerolinewidth": 2
          }
         }
        },
        "title": {
         "font": {
          "size": 24
         },
         "text": "All Categories count"
        },
        "width": 2655,
        "xaxis": {
         "anchor": "y",
         "domain": [
          0,
          1
         ],
         "tickangle": 90,
         "tickfont": {
          "family": "Courier New",
          "size": 8
         },
         "title": {
          "text": "Category"
         }
        },
        "yaxis": {
         "anchor": "x",
         "domain": [
          0,
          1
         ],
         "tickfont": {
          "family": "Courier New",
          "size": 10
         },
         "title": {
          "text": "Count"
         }
        }
       }
      }
     },
     "metadata": {},
     "output_type": "display_data"
    }
   ],
   "source": [
    "import plotly.express as px\n",
    "import pandas as pd\n",
    "\n",
    "# Sample DataFrame (replace with your actual data)\n",
    "# category_count = pd.read_csv(...) or however you define it\n",
    "# Must contain columns: 'categories' and 'count'\n",
    "\n",
    "# Sort for clarity (optional)\n",
    "category_count = category_count.sort_values('count', ascending=False).reset_index(drop=True)\n",
    "\n",
    "# Create bar chart\n",
    "fig = px.bar(\n",
    "    category_count,\n",
    "    x='categories',\n",
    "    y='count',\n",
    "    title='All Categories count',\n",
    "    labels={'categories': 'Category', 'count': 'Count'},\n",
    "    template='plotly_white'\n",
    ")\n",
    "\n",
    "# Adjust layout: auto-width based on number of categories\n",
    "fig.update_layout(\n",
    "    xaxis_tickangle=90,\n",
    "    width=max(1000, len(category_count) * 5),  # Dynamically scale width\n",
    "    height=500,\n",
    "    title_font_size=24,\n",
    "    yaxis_tickfont=dict(size=10, family='Courier New'),\n",
    "    xaxis_tickfont=dict(size=8, family='Courier New'),\n",
    "    margin=dict(l=40, r=40, t=80, b=40)\n",
    ")\n",
    "\n",
    "fig.show()\n"
   ]
  },
  {
   "cell_type": "markdown",
   "id": "e47c83f2",
   "metadata": {},
   "source": [
    "> so we need to fix this long tail distribution in categories column [as done here](#3-)"
   ]
  },
  {
   "cell_type": "markdown",
   "id": "b2e71605",
   "metadata": {},
   "source": [
    "#### 2.3 Removing very short, grabage descriptions `<25 words`"
   ]
  },
  {
   "cell_type": "code",
   "execution_count": null,
   "id": "60453831",
   "metadata": {},
   "outputs": [],
   "source": [
    "#getting description lengths into a column\n",
    "# valid_entries[\"description_length\"] = valid_entries[\"description\"].str.split().str.len()\n",
    "#or equivalently\n",
    "valid_entries[\"description_length\"] = valid_entries[\"description\"].apply(lambda x: len(x.split()))"
   ]
  },
  {
   "cell_type": "code",
   "execution_count": null,
   "id": "44ae7975",
   "metadata": {},
   "outputs": [
    {
     "data": {
      "image/png": "[encoded data removed]",
      "text/plain": [
       "<Figure size 1500x600 with 1 Axes>"
      ]
     },
     "metadata": {},
     "output_type": "display_data"
    }
   ],
   "source": [
    "#visualize how the description length is distributed\n",
    "\n",
    "plt.figure(figsize=(15,6))\n",
    "plt.hist(valid_entries[\"description_length\"], bins=200, histtype=\"stepfilled\")\n",
    "plt.xlabel('Values')\n",
    "plt.ylabel('Frequency')\n",
    "plt.title('Description word count histogram')\n",
    "plt.xticks(ticks=np.arange(0,valid_entries[\"description_length\"].max(),50))\n",
    "plt.grid(True, linestyle='--', linewidth=0.5, alpha=0.7)\n",
    "plt.show()"
   ]
  },
  {
   "cell_type": "code",
   "execution_count": 34,
   "id": "a278c9cc",
   "metadata": {},
   "outputs": [
    {
     "data": {
      "text/plain": [
       "36     A magical and fantastic collection of early st...\n",
       "57     A young drifter finds more than he bargained f...\n",
       "68     A new 'The Doors of Perception' for the 21st c...\n",
       "82     A boy imagines what it would be like if he had...\n",
       "132    This fable aims teaches the reader to open the...\n",
       "171    Cross Damon, trapped within his own blackness,...\n",
       "173    A team of scientists struggles to define and c...\n",
       "175    After twelve-year-old Johnny Maxwell suddenly ...\n",
       "193    Sabriel, daughter of the necromancer Abhorsen,...\n",
       "284    Traces the author's coming of age in the Jim C...\n",
       "324    Here, in this compelling assembly of writings,...\n",
       "334    The acclaimed author of A People's History of ...\n",
       "339    An illuminating look at the monumental inventi...\n",
       "340    From the award-winning poet and novelist—a mus...\n",
       "348    Novelist George Webber is driven from his home...\n",
       "355    After learning that she is the executor of her...\n",
       "378    The eccentric, mysterious, naive, jaded, up-an...\n",
       "392    This fascinating reappraisal by a rising young...\n",
       "404    Gurgeh, a champion game player, travels a hund...\n",
       "419    Tells the story of the Buendia family, set aga...\n",
       "444    A fact-based novel that recounts the life of n...\n",
       "464    Provides an introduction to Hinduism, Buddhism...\n",
       "470    This journal shares fruitful reflections on li...\n",
       "471    A beautiful gift edition of Thomas Bulfinch's ...\n",
       "486    A small town shortly after the turn of the cen...\n",
       "504    Laura helps Ma and Pa make the little log cabi...\n",
       "642    A respected Whitehall civil servant is asked t...\n",
       "655    David Bell, a successful television executive ...\n",
       "684    The tragic story of the friendship between two...\n",
       "693    Faussone, an Italian engineer, describes proje...\n",
       "Name: description, dtype: object"
      ]
     },
     "execution_count": 34,
     "metadata": {},
     "output_type": "execute_result"
    }
   ],
   "source": [
    "#checking how the description look like at different range of lengths\n",
    "\n",
    "#.loc[row_index, col_index]\n",
    "valid_entries.loc[valid_entries[\"description_length\"].between(20,25), \"description\"].head(30)"
   ]
  },
  {
   "cell_type": "markdown",
   "id": "b1c23cf4",
   "metadata": {},
   "source": [
    "> descriptions greater than 20 seem to be a good fit. so, we will remove all descriptions under that length"
   ]
  },
  {
   "cell_type": "code",
   "execution_count": 41,
   "id": "c76a1c5d",
   "metadata": {},
   "outputs": [],
   "source": [
    "pd.set_option('display.max_colwidth', 150)   # Set specific width"
   ]
  },
  {
   "cell_type": "code",
   "execution_count": 42,
   "id": "fe2038c5",
   "metadata": {},
   "outputs": [
    {
     "data": {
      "text/plain": [
       "0       A NOVEL THAT READERS and critics have been eagerly anticipating for over a decade, Gilead is an astonishingly imagined story of remarkable lives. ...\n",
       "1       A new 'Christie for Christmas' -- a full-length novel adapted from her acclaimed play by Charles Osborne Following BLACK COFFEE and THE UNEXPECTED...\n",
       "3       A memorable, mesmerizing heroine Jennifer -- brilliant, beautiful, an attorney on the way up until the Mafia's schemes win her the hatred of an im...\n",
       "4       Lewis' work on the nature of love divides love into four categories; Affection, Friendship, Eros and Charity. The first three come naturally to hu...\n",
       "5       \"In The Problem of Pain, C.S. Lewis, one of the most renowned Christian authors and thinkers, examines a universally applicable question within th...\n",
       "                                                                                ...                                                                          \n",
       "6803    This book tells the tale of a man who goes on a wonderful and amazing journey through Asia. His travels can also be seen as a parable of one perso...\n",
       "6804    Wisdom to Create a Life of Passion, Purpose, and Peace This inspiring tale provides a step-by-step approach to living with greater courage, balanc...\n",
       "6805    This collection of the timeless teachings of one of the greatest sages of India, is a testament to the uniqueness of the seer's life and work. The...\n",
       "6808    Since the three volume edition ofHegel's Philosophy of Subjective Spirit (1978, 19792) has been so well received, I have been encouraged to select...\n",
       "6809                              This is a jubilant and rewarding collection of Winterson scholarship--a superb group of essays from a host of fine authors.\n",
       "Name: description, Length: 5693, dtype: object"
      ]
     },
     "execution_count": 42,
     "metadata": {},
     "output_type": "execute_result"
    }
   ],
   "source": [
    "valid_entries = valid_entries[valid_entries[\"description_length\"]>=20]\n",
    "valid_entries[\"description\"]"
   ]
  },
  {
   "cell_type": "markdown",
   "id": "a52a5551",
   "metadata": {},
   "source": [
    "> we lost substantial number of records and have 5639 only now. But thats fine"
   ]
  },
  {
   "cell_type": "markdown",
   "id": "295fb31b",
   "metadata": {},
   "source": [
    "#### 2.4 Handling missing subtitles\n",
    "> since title and subtitle usually appear together like \"rajnigandha\":\"daane daane mein kesar ka dum\" we can create a new column by concatenting the two cols"
   ]
  },
  {
   "cell_type": "code",
   "execution_count": 43,
   "id": "2bd1bf68",
   "metadata": {},
   "outputs": [],
   "source": [
    "valid_entries[\"title_and_subtitle\"] = (\n",
    "    np.where(valid_entries[\"subtitle\"].isna(),\n",
    "             valid_entries[\"title\"],\n",
    "             valid_entries[[\"title\", \"subtitle\"]].astype(str).agg(\": \".join, axis=1))\n",
    ")\n"
   ]
  },
  {
   "cell_type": "code",
   "execution_count": 44,
   "id": "be9373f8",
   "metadata": {},
   "outputs": [
    {
     "data": {
      "text/plain": [
       "0                                                                                            Gilead\n",
       "1                                                                             Spider's Web: A Novel\n",
       "3                                                                                    Rage of angels\n",
       "4                                                                                    The Four Loves\n",
       "5                                                                               The Problem of Pain\n",
       "                                                   ...                                             \n",
       "6803                                                                            Journey to the East\n",
       "6804    The Monk Who Sold His Ferrari: A Fable About Fulfilling Your Dreams & Reaching Your Destiny\n",
       "6805                                                 I Am that: Talks with Sri Nisargadatta Maharaj\n",
       "6808                                                                       The Berlin Phenomenology\n",
       "6809                      'I'm Telling You Stories': Jeanette Winterson and the Politics of Reading\n",
       "Name: title_and_subtitle, Length: 5693, dtype: object"
      ]
     },
     "execution_count": 44,
     "metadata": {},
     "output_type": "execute_result"
    }
   ],
   "source": [
    "valid_entries[\"title_and_subtitle\"]"
   ]
  },
  {
   "cell_type": "markdown",
   "id": "40ae05e2",
   "metadata": {},
   "source": [
    "### 2.5 Prefixing the isbn numbr (unique id) to the description to prepare for vector db later"
   ]
  },
  {
   "cell_type": "code",
   "execution_count": 46,
   "id": "a1de19dc",
   "metadata": {},
   "outputs": [
    {
     "data": {
      "text/html": [
       "<div>\n",
       "<style scoped>\n",
       "    .dataframe tbody tr th:only-of-type {\n",
       "        vertical-align: middle;\n",
       "    }\n",
       "\n",
       "    .dataframe tbody tr th {\n",
       "        vertical-align: top;\n",
       "    }\n",
       "\n",
       "    .dataframe thead th {\n",
       "        text-align: right;\n",
       "    }\n",
       "</style>\n",
       "<table border=\"1\" class=\"dataframe\">\n",
       "  <thead>\n",
       "    <tr style=\"text-align: right;\">\n",
       "      <th></th>\n",
       "      <th>isbn13</th>\n",
       "      <th>isbn10</th>\n",
       "      <th>title</th>\n",
       "      <th>subtitle</th>\n",
       "      <th>authors</th>\n",
       "      <th>categories</th>\n",
       "      <th>thumbnail</th>\n",
       "      <th>description</th>\n",
       "      <th>published_year</th>\n",
       "      <th>average_rating</th>\n",
       "      <th>num_pages</th>\n",
       "      <th>ratings_count</th>\n",
       "      <th>missing_description</th>\n",
       "      <th>age</th>\n",
       "      <th>description_length</th>\n",
       "      <th>title_and_subtitle</th>\n",
       "      <th>tagged_description</th>\n",
       "    </tr>\n",
       "  </thead>\n",
       "  <tbody>\n",
       "    <tr>\n",
       "      <th>0</th>\n",
       "      <td>9780002005883</td>\n",
       "      <td>0002005883</td>\n",
       "      <td>Gilead</td>\n",
       "      <td>NaN</td>\n",
       "      <td>Marilynne Robinson</td>\n",
       "      <td>Fiction</td>\n",
       "      <td>http://books.google.com/books/content?id=KQZCPgAACAAJ&amp;printsec=frontcover&amp;img=1&amp;zoom=1&amp;source=gbs_api</td>\n",
       "      <td>A NOVEL THAT READERS and critics have been eagerly anticipating for over a decade, Gilead is an astonishingly imagined story of remarkable lives. ...</td>\n",
       "      <td>2004.0</td>\n",
       "      <td>3.85</td>\n",
       "      <td>247.0</td>\n",
       "      <td>361.0</td>\n",
       "      <td>0</td>\n",
       "      <td>21.0</td>\n",
       "      <td>199</td>\n",
       "      <td>Gilead</td>\n",
       "      <td>9780002005883 A NOVEL THAT READERS and critics have been eagerly anticipating for over a decade, Gilead is an astonishingly imagined story of rema...</td>\n",
       "    </tr>\n",
       "    <tr>\n",
       "      <th>1</th>\n",
       "      <td>9780002261982</td>\n",
       "      <td>0002261987</td>\n",
       "      <td>Spider's Web</td>\n",
       "      <td>A Novel</td>\n",
       "      <td>Charles Osborne;Agatha Christie</td>\n",
       "      <td>Detective and mystery stories</td>\n",
       "      <td>http://books.google.com/books/content?id=gA5GPgAACAAJ&amp;printsec=frontcover&amp;img=1&amp;zoom=1&amp;source=gbs_api</td>\n",
       "      <td>A new 'Christie for Christmas' -- a full-length novel adapted from her acclaimed play by Charles Osborne Following BLACK COFFEE and THE UNEXPECTED...</td>\n",
       "      <td>2000.0</td>\n",
       "      <td>3.83</td>\n",
       "      <td>241.0</td>\n",
       "      <td>5164.0</td>\n",
       "      <td>0</td>\n",
       "      <td>25.0</td>\n",
       "      <td>205</td>\n",
       "      <td>Spider's Web: A Novel</td>\n",
       "      <td>9780002261982 A new 'Christie for Christmas' -- a full-length novel adapted from her acclaimed play by Charles Osborne Following BLACK COFFEE and ...</td>\n",
       "    </tr>\n",
       "    <tr>\n",
       "      <th>3</th>\n",
       "      <td>9780006178736</td>\n",
       "      <td>0006178731</td>\n",
       "      <td>Rage of angels</td>\n",
       "      <td>NaN</td>\n",
       "      <td>Sidney Sheldon</td>\n",
       "      <td>Fiction</td>\n",
       "      <td>http://books.google.com/books/content?id=FKo2TgANz74C&amp;printsec=frontcover&amp;img=1&amp;zoom=1&amp;source=gbs_api</td>\n",
       "      <td>A memorable, mesmerizing heroine Jennifer -- brilliant, beautiful, an attorney on the way up until the Mafia's schemes win her the hatred of an im...</td>\n",
       "      <td>1993.0</td>\n",
       "      <td>3.93</td>\n",
       "      <td>512.0</td>\n",
       "      <td>29532.0</td>\n",
       "      <td>0</td>\n",
       "      <td>32.0</td>\n",
       "      <td>57</td>\n",
       "      <td>Rage of angels</td>\n",
       "      <td>9780006178736 A memorable, mesmerizing heroine Jennifer -- brilliant, beautiful, an attorney on the way up until the Mafia's schemes win her the h...</td>\n",
       "    </tr>\n",
       "    <tr>\n",
       "      <th>4</th>\n",
       "      <td>9780006280897</td>\n",
       "      <td>0006280897</td>\n",
       "      <td>The Four Loves</td>\n",
       "      <td>NaN</td>\n",
       "      <td>Clive Staples Lewis</td>\n",
       "      <td>Christian life</td>\n",
       "      <td>http://books.google.com/books/content?id=XhQ5XsFcpGIC&amp;printsec=frontcover&amp;img=1&amp;zoom=1&amp;source=gbs_api</td>\n",
       "      <td>Lewis' work on the nature of love divides love into four categories; Affection, Friendship, Eros and Charity. The first three come naturally to hu...</td>\n",
       "      <td>2002.0</td>\n",
       "      <td>4.15</td>\n",
       "      <td>170.0</td>\n",
       "      <td>33684.0</td>\n",
       "      <td>0</td>\n",
       "      <td>23.0</td>\n",
       "      <td>45</td>\n",
       "      <td>The Four Loves</td>\n",
       "      <td>9780006280897 Lewis' work on the nature of love divides love into four categories; Affection, Friendship, Eros and Charity. The first three come n...</td>\n",
       "    </tr>\n",
       "    <tr>\n",
       "      <th>5</th>\n",
       "      <td>9780006280934</td>\n",
       "      <td>0006280935</td>\n",
       "      <td>The Problem of Pain</td>\n",
       "      <td>NaN</td>\n",
       "      <td>Clive Staples Lewis</td>\n",
       "      <td>Christian life</td>\n",
       "      <td>http://books.google.com/books/content?id=Kk-uVe5QK-gC&amp;printsec=frontcover&amp;img=1&amp;zoom=1&amp;source=gbs_api</td>\n",
       "      <td>\"In The Problem of Pain, C.S. Lewis, one of the most renowned Christian authors and thinkers, examines a universally applicable question within th...</td>\n",
       "      <td>2002.0</td>\n",
       "      <td>4.09</td>\n",
       "      <td>176.0</td>\n",
       "      <td>37569.0</td>\n",
       "      <td>0</td>\n",
       "      <td>23.0</td>\n",
       "      <td>75</td>\n",
       "      <td>The Problem of Pain</td>\n",
       "      <td>9780006280934 \"In The Problem of Pain, C.S. Lewis, one of the most renowned Christian authors and thinkers, examines a universally applicable ques...</td>\n",
       "    </tr>\n",
       "  </tbody>\n",
       "</table>\n",
       "</div>"
      ],
      "text/plain": [
       "          isbn13      isbn10                title subtitle  \\\n",
       "0  9780002005883  0002005883               Gilead      NaN   \n",
       "1  9780002261982  0002261987         Spider's Web  A Novel   \n",
       "3  9780006178736  0006178731       Rage of angels      NaN   \n",
       "4  9780006280897  0006280897       The Four Loves      NaN   \n",
       "5  9780006280934  0006280935  The Problem of Pain      NaN   \n",
       "\n",
       "                           authors                     categories  \\\n",
       "0               Marilynne Robinson                        Fiction   \n",
       "1  Charles Osborne;Agatha Christie  Detective and mystery stories   \n",
       "3                   Sidney Sheldon                        Fiction   \n",
       "4              Clive Staples Lewis                 Christian life   \n",
       "5              Clive Staples Lewis                 Christian life   \n",
       "\n",
       "                                                                                               thumbnail  \\\n",
       "0  http://books.google.com/books/content?id=KQZCPgAACAAJ&printsec=frontcover&img=1&zoom=1&source=gbs_api   \n",
       "1  http://books.google.com/books/content?id=gA5GPgAACAAJ&printsec=frontcover&img=1&zoom=1&source=gbs_api   \n",
       "3  http://books.google.com/books/content?id=FKo2TgANz74C&printsec=frontcover&img=1&zoom=1&source=gbs_api   \n",
       "4  http://books.google.com/books/content?id=XhQ5XsFcpGIC&printsec=frontcover&img=1&zoom=1&source=gbs_api   \n",
       "5  http://books.google.com/books/content?id=Kk-uVe5QK-gC&printsec=frontcover&img=1&zoom=1&source=gbs_api   \n",
       "\n",
       "                                                                                                                                             description  \\\n",
       "0  A NOVEL THAT READERS and critics have been eagerly anticipating for over a decade, Gilead is an astonishingly imagined story of remarkable lives. ...   \n",
       "1  A new 'Christie for Christmas' -- a full-length novel adapted from her acclaimed play by Charles Osborne Following BLACK COFFEE and THE UNEXPECTED...   \n",
       "3  A memorable, mesmerizing heroine Jennifer -- brilliant, beautiful, an attorney on the way up until the Mafia's schemes win her the hatred of an im...   \n",
       "4  Lewis' work on the nature of love divides love into four categories; Affection, Friendship, Eros and Charity. The first three come naturally to hu...   \n",
       "5  \"In The Problem of Pain, C.S. Lewis, one of the most renowned Christian authors and thinkers, examines a universally applicable question within th...   \n",
       "\n",
       "   published_year  average_rating  num_pages  ratings_count  \\\n",
       "0          2004.0            3.85      247.0          361.0   \n",
       "1          2000.0            3.83      241.0         5164.0   \n",
       "3          1993.0            3.93      512.0        29532.0   \n",
       "4          2002.0            4.15      170.0        33684.0   \n",
       "5          2002.0            4.09      176.0        37569.0   \n",
       "\n",
       "   missing_description   age  description_length     title_and_subtitle  \\\n",
       "0                    0  21.0                 199                 Gilead   \n",
       "1                    0  25.0                 205  Spider's Web: A Novel   \n",
       "3                    0  32.0                  57         Rage of angels   \n",
       "4                    0  23.0                  45         The Four Loves   \n",
       "5                    0  23.0                  75    The Problem of Pain   \n",
       "\n",
       "                                                                                                                                      tagged_description  \n",
       "0  9780002005883 A NOVEL THAT READERS and critics have been eagerly anticipating for over a decade, Gilead is an astonishingly imagined story of rema...  \n",
       "1  9780002261982 A new 'Christie for Christmas' -- a full-length novel adapted from her acclaimed play by Charles Osborne Following BLACK COFFEE and ...  \n",
       "3  9780006178736 A memorable, mesmerizing heroine Jennifer -- brilliant, beautiful, an attorney on the way up until the Mafia's schemes win her the h...  \n",
       "4  9780006280897 Lewis' work on the nature of love divides love into four categories; Affection, Friendship, Eros and Charity. The first three come n...  \n",
       "5  9780006280934 \"In The Problem of Pain, C.S. Lewis, one of the most renowned Christian authors and thinkers, examines a universally applicable ques...  "
      ]
     },
     "execution_count": 46,
     "metadata": {},
     "output_type": "execute_result"
    }
   ],
   "source": [
    "valid_entries[\"tagged_description\"] = valid_entries[[\"isbn13\", \"description\"]].astype(str).agg(\" \".join, axis=1)\n",
    "valid_entries.head()"
   ]
  },
  {
   "cell_type": "markdown",
   "id": "3d91e907",
   "metadata": {},
   "source": [
    "> finally, deleting the unnecessary columns\n"
   ]
  },
  {
   "cell_type": "code",
   "execution_count": 47,
   "id": "79ef8885",
   "metadata": {},
   "outputs": [],
   "source": [
    "valid_entries.drop(columns=[\"subtitle\",\"missing_description\", \"age\", \"description_length\"], axis=1).to_csv(\"./ds/cleaned_data.csv\", index=False)"
   ]
  }
 ],
 "metadata": {
  "kernelspec": {
   "display_name": "env",
   "language": "python",
   "name": "python3"
  },
  "language_info": {
   "codemirror_mode": {
    "name": "ipython",
    "version": 3
   },
   "file_extension": ".py",
   "mimetype": "text/x-python",
   "name": "python",
   "nbconvert_exporter": "python",
   "pygments_lexer": "ipython3",
   "version": "3.12.3"
  }
 },
 "nbformat": 4,
 "nbformat_minor": 5
}
